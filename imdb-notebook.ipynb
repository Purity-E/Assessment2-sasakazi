{
 "cells": [
  {
   "cell_type": "code",
   "execution_count": 1,
   "id": "5e2920b3",
   "metadata": {
    "_cell_guid": "b1076dfc-b9ad-4769-8c92-a6c4dae69d19",
    "_uuid": "8f2839f25d086af736a60e9eeb907d3b93b6e0e5",
    "execution": {
     "iopub.execute_input": "2023-01-13T11:27:00.030311Z",
     "iopub.status.busy": "2023-01-13T11:27:00.029595Z",
     "iopub.status.idle": "2023-01-13T11:27:00.056253Z",
     "shell.execute_reply": "2023-01-13T11:27:00.055318Z"
    },
    "papermill": {
     "duration": 0.038618,
     "end_time": "2023-01-13T11:27:00.059876",
     "exception": false,
     "start_time": "2023-01-13T11:27:00.021258",
     "status": "completed"
    },
    "tags": []
   },
   "outputs": [
    {
     "name": "stdout",
     "output_type": "stream",
     "text": [
      "/kaggle/input/imdb-review-dataset/part-05.json\n",
      "/kaggle/input/imdb-review-dataset/part-01.json\n",
      "/kaggle/input/imdb-review-dataset/part-02.json\n",
      "/kaggle/input/imdb-review-dataset/part-06.json\n",
      "/kaggle/input/imdb-review-dataset/sample.json\n",
      "/kaggle/input/imdb-review-dataset/part-03.json\n",
      "/kaggle/input/imdb-review-dataset/part-04.json\n"
     ]
    }
   ],
   "source": [
    "# This Python 3 environment comes with many helpful analytics libraries installed\n",
    "# It is defined by the kaggle/python Docker image: https://github.com/kaggle/docker-python\n",
    "# For example, here's several helpful packages to load\n",
    "\n",
    "import numpy as np # linear algebra\n",
    "import pandas as pd # data processing, CSV file I/O (e.g. pd.read_csv)\n",
    "\n",
    "# Input data files are available in the read-only \"../input/\" directory\n",
    "# For example, running this (by clicking run or pressing Shift+Enter) will list all files under the input directory\n",
    "\n",
    "import os\n",
    "for dirname, _, filenames in os.walk('/kaggle/input'):\n",
    "    for filename in filenames:\n",
    "        print(os.path.join(dirname, filename))\n",
    "\n",
    "# You can write up to 20GB to the current directory (/kaggle/working/) that gets preserved as output when you create a version using \"Save & Run All\" \n",
    "# You can also write temporary files to /kaggle/temp/, but they won't be saved outside of the current session"
   ]
  },
  {
   "cell_type": "code",
   "execution_count": 2,
   "id": "041eca98",
   "metadata": {
    "execution": {
     "iopub.execute_input": "2023-01-13T11:27:00.071125Z",
     "iopub.status.busy": "2023-01-13T11:27:00.069938Z",
     "iopub.status.idle": "2023-01-13T11:27:00.075439Z",
     "shell.execute_reply": "2023-01-13T11:27:00.074622Z"
    },
    "papermill": {
     "duration": 0.013386,
     "end_time": "2023-01-13T11:27:00.077776",
     "exception": false,
     "start_time": "2023-01-13T11:27:00.064390",
     "status": "completed"
    },
    "tags": []
   },
   "outputs": [],
   "source": [
    "# importing libraries\n",
    "import json \n",
    "import re \n",
    "import pandas as pd"
   ]
  },
  {
   "cell_type": "code",
   "execution_count": 3,
   "id": "0d9677cb",
   "metadata": {
    "execution": {
     "iopub.execute_input": "2023-01-13T11:27:00.088927Z",
     "iopub.status.busy": "2023-01-13T11:27:00.088116Z",
     "iopub.status.idle": "2023-01-13T11:27:00.093378Z",
     "shell.execute_reply": "2023-01-13T11:27:00.092170Z"
    },
    "papermill": {
     "duration": 0.014205,
     "end_time": "2023-01-13T11:27:00.096440",
     "exception": false,
     "start_time": "2023-01-13T11:27:00.082235",
     "status": "completed"
    },
    "tags": []
   },
   "outputs": [],
   "source": [
    "dataDir = \"/kaggle/input/imdb-review-dataset/\" \n",
    "# creating list of files to load\n",
    "files_to_load = [\"part-01.json\", \"part-02.json\", \"part-03.json\", \n",
    "                 \"part-04.json\", \"part-05.json\", \"part-06.json\"]\n",
    "\n",
    "reviews_json = list() # creating an empty list"
   ]
  },
  {
   "cell_type": "code",
   "execution_count": 4,
   "id": "f8eaf656",
   "metadata": {
    "execution": {
     "iopub.execute_input": "2023-01-13T11:27:00.107494Z",
     "iopub.status.busy": "2023-01-13T11:27:00.107086Z",
     "iopub.status.idle": "2023-01-13T11:29:53.607291Z",
     "shell.execute_reply": "2023-01-13T11:29:53.605873Z"
    },
    "papermill": {
     "duration": 173.509943,
     "end_time": "2023-01-13T11:29:53.611435",
     "exception": false,
     "start_time": "2023-01-13T11:27:00.101492",
     "status": "completed"
    },
    "tags": []
   },
   "outputs": [],
   "source": [
    "# loading data \n",
    "for f in files_to_load:\n",
    "    with open(f\"{dataDir}/{f}\", mode='r') as file:\n",
    "        new_reviews = json.load(file)\n",
    "        for review in new_reviews:\n",
    "            reviews_json.append(review)"
   ]
  },
  {
   "cell_type": "code",
   "execution_count": 5,
   "id": "db578153",
   "metadata": {
    "execution": {
     "iopub.execute_input": "2023-01-13T11:29:53.623704Z",
     "iopub.status.busy": "2023-01-13T11:29:53.623273Z",
     "iopub.status.idle": "2023-01-13T11:30:06.738978Z",
     "shell.execute_reply": "2023-01-13T11:30:06.737565Z"
    },
    "papermill": {
     "duration": 13.124865,
     "end_time": "2023-01-13T11:30:06.742089",
     "exception": false,
     "start_time": "2023-01-13T11:29:53.617224",
     "status": "completed"
    },
    "tags": []
   },
   "outputs": [
    {
     "name": "stdout",
     "output_type": "stream",
     "text": [
      "(5571499, 9)\n"
     ]
    },
    {
     "data": {
      "text/html": [
       "<div>\n",
       "<style scoped>\n",
       "    .dataframe tbody tr th:only-of-type {\n",
       "        vertical-align: middle;\n",
       "    }\n",
       "\n",
       "    .dataframe tbody tr th {\n",
       "        vertical-align: top;\n",
       "    }\n",
       "\n",
       "    .dataframe thead th {\n",
       "        text-align: right;\n",
       "    }\n",
       "</style>\n",
       "<table border=\"1\" class=\"dataframe\">\n",
       "  <thead>\n",
       "    <tr style=\"text-align: right;\">\n",
       "      <th></th>\n",
       "      <th>review_id</th>\n",
       "      <th>reviewer</th>\n",
       "      <th>movie</th>\n",
       "      <th>rating</th>\n",
       "      <th>review_summary</th>\n",
       "      <th>review_date</th>\n",
       "      <th>spoiler_tag</th>\n",
       "      <th>review_detail</th>\n",
       "      <th>helpful</th>\n",
       "    </tr>\n",
       "  </thead>\n",
       "  <tbody>\n",
       "    <tr>\n",
       "      <th>0</th>\n",
       "      <td>rw5704482</td>\n",
       "      <td>raeldor-96879</td>\n",
       "      <td>After Life (2019– )</td>\n",
       "      <td>9</td>\n",
       "      <td>Very Strong Season 2</td>\n",
       "      <td>3 May 2020</td>\n",
       "      <td>0</td>\n",
       "      <td>I enjoyed the first season, but I must say I t...</td>\n",
       "      <td>[1, 1]</td>\n",
       "    </tr>\n",
       "    <tr>\n",
       "      <th>1</th>\n",
       "      <td>rw5704483</td>\n",
       "      <td>dosleeb</td>\n",
       "      <td>The Valhalla Murders (2019– )</td>\n",
       "      <td>6</td>\n",
       "      <td>Icelandic detectives?</td>\n",
       "      <td>3 May 2020</td>\n",
       "      <td>0</td>\n",
       "      <td>I know Iceland is a small country and police d...</td>\n",
       "      <td>[2, 2]</td>\n",
       "    </tr>\n",
       "    <tr>\n",
       "      <th>2</th>\n",
       "      <td>rw5704484</td>\n",
       "      <td>brightconscious</td>\n",
       "      <td>Special OPS (2020– )</td>\n",
       "      <td>7</td>\n",
       "      <td>Nothing special</td>\n",
       "      <td>3 May 2020</td>\n",
       "      <td>0</td>\n",
       "      <td>Except K K , no other actor looks comfortable ...</td>\n",
       "      <td>[0, 0]</td>\n",
       "    </tr>\n",
       "    <tr>\n",
       "      <th>3</th>\n",
       "      <td>rw5704485</td>\n",
       "      <td>gasconyway</td>\n",
       "      <td>#BlackAF (2020– )</td>\n",
       "      <td>8</td>\n",
       "      <td>Good but</td>\n",
       "      <td>3 May 2020</td>\n",
       "      <td>0</td>\n",
       "      <td>I'm guessing that as a 62 year old white woman...</td>\n",
       "      <td>[5, 9]</td>\n",
       "    </tr>\n",
       "    <tr>\n",
       "      <th>4</th>\n",
       "      <td>rw5704487</td>\n",
       "      <td>mmason-15867</td>\n",
       "      <td>The Droving (2020)</td>\n",
       "      <td>2</td>\n",
       "      <td>An honest review</td>\n",
       "      <td>3 May 2020</td>\n",
       "      <td>0</td>\n",
       "      <td>Here's the truth. There's not much to this mov...</td>\n",
       "      <td>[26, 41]</td>\n",
       "    </tr>\n",
       "  </tbody>\n",
       "</table>\n",
       "</div>"
      ],
      "text/plain": [
       "   review_id         reviewer                          movie rating  \\\n",
       "0  rw5704482    raeldor-96879            After Life (2019– )      9   \n",
       "1  rw5704483          dosleeb  The Valhalla Murders (2019– )      6   \n",
       "2  rw5704484  brightconscious           Special OPS (2020– )      7   \n",
       "3  rw5704485       gasconyway              #BlackAF (2020– )      8   \n",
       "4  rw5704487     mmason-15867             The Droving (2020)      2   \n",
       "\n",
       "          review_summary review_date  spoiler_tag  \\\n",
       "0   Very Strong Season 2  3 May 2020            0   \n",
       "1  Icelandic detectives?  3 May 2020            0   \n",
       "2        Nothing special  3 May 2020            0   \n",
       "3               Good but  3 May 2020            0   \n",
       "4       An honest review  3 May 2020            0   \n",
       "\n",
       "                                       review_detail   helpful  \n",
       "0  I enjoyed the first season, but I must say I t...    [1, 1]  \n",
       "1  I know Iceland is a small country and police d...    [2, 2]  \n",
       "2  Except K K , no other actor looks comfortable ...    [0, 0]  \n",
       "3  I'm guessing that as a 62 year old white woman...    [5, 9]  \n",
       "4  Here's the truth. There's not much to this mov...  [26, 41]  "
      ]
     },
     "execution_count": 5,
     "metadata": {},
     "output_type": "execute_result"
    }
   ],
   "source": [
    "# Converting list of dicts to pandas dataframe\n",
    "reviews_df = pd.DataFrame(reviews_json)\n",
    "\n",
    "print(reviews_df.shape) #getting the shape of dataframe\n",
    "\n",
    "#getting the first 5 rows of the dataframe\n",
    "reviews_df.head()"
   ]
  },
  {
   "cell_type": "code",
   "execution_count": 6,
   "id": "660b5dd5",
   "metadata": {
    "execution": {
     "iopub.execute_input": "2023-01-13T11:30:06.753566Z",
     "iopub.status.busy": "2023-01-13T11:30:06.753144Z",
     "iopub.status.idle": "2023-01-13T11:30:06.761324Z",
     "shell.execute_reply": "2023-01-13T11:30:06.760475Z"
    },
    "papermill": {
     "duration": 0.016634,
     "end_time": "2023-01-13T11:30:06.763621",
     "exception": false,
     "start_time": "2023-01-13T11:30:06.746987",
     "status": "completed"
    },
    "tags": []
   },
   "outputs": [
    {
     "data": {
      "text/plain": [
       "review_id         object\n",
       "reviewer          object\n",
       "movie             object\n",
       "rating            object\n",
       "review_summary    object\n",
       "review_date       object\n",
       "spoiler_tag        int64\n",
       "review_detail     object\n",
       "helpful           object\n",
       "dtype: object"
      ]
     },
     "execution_count": 6,
     "metadata": {},
     "output_type": "execute_result"
    }
   ],
   "source": [
    "# checking variable types\n",
    "reviews_df.dtypes"
   ]
  },
  {
   "cell_type": "markdown",
   "id": "a888093e",
   "metadata": {
    "papermill": {
     "duration": 0.004554,
     "end_time": "2023-01-13T11:30:06.773496",
     "exception": false,
     "start_time": "2023-01-13T11:30:06.768942",
     "status": "completed"
    },
    "tags": []
   },
   "source": [
    "**Which movie had the highest rating ?**\n",
    "\n",
    "From the value counts below, we can see that the movie 'Avengers: Endgame (2019)' was the most rated. It had the highest number of ratings"
   ]
  },
  {
   "cell_type": "code",
   "execution_count": 7,
   "id": "6a049d95",
   "metadata": {
    "execution": {
     "iopub.execute_input": "2023-01-13T11:30:06.785162Z",
     "iopub.status.busy": "2023-01-13T11:30:06.784428Z",
     "iopub.status.idle": "2023-01-13T11:30:09.923420Z",
     "shell.execute_reply": "2023-01-13T11:30:09.922178Z"
    },
    "papermill": {
     "duration": 3.148206,
     "end_time": "2023-01-13T11:30:09.926487",
     "exception": false,
     "start_time": "2023-01-13T11:30:06.778281",
     "status": "completed"
    },
    "tags": []
   },
   "outputs": [
    {
     "data": {
      "text/plain": [
       "Avengers: Endgame (2019)                                           8771\n",
       "The Shawshank Redemption (1994)                                    8236\n",
       "Dil Bechara (2020)                                                 7764\n",
       "Game of Thrones: The Iron Throne (2019) Season 8, Episode 6        7428\n",
       "Captain Marvel (2019)                                              7158\n",
       "                                                                   ... \n",
       "Confessions of a Teenage Anal Queen (2006 Video)                      1\n",
       "Lou Grant: Campesinos (1981) Season 4, Episode 16                     1\n",
       "Lou Grant: Violence (1981) Season 4, Episode 18                       1\n",
       "Big John, Little John: Off the Wall (1976) Season 1, Episode 10       1\n",
       "Saibogu 009: Kaijû senso (1967)                                       1\n",
       "Name: movie, Length: 453528, dtype: int64"
      ]
     },
     "execution_count": 7,
     "metadata": {},
     "output_type": "execute_result"
    }
   ],
   "source": [
    "# checking the value counts for movie\n",
    "reviews_df['movie'].value_counts()"
   ]
  },
  {
   "cell_type": "markdown",
   "id": "2642d8d7",
   "metadata": {
    "papermill": {
     "duration": 0.004666,
     "end_time": "2023-01-13T11:30:09.936526",
     "exception": false,
     "start_time": "2023-01-13T11:30:09.931860",
     "status": "completed"
    },
    "tags": []
   },
   "source": [
    "**How many reviewers gave it the highest rating?**\n",
    "\n",
    "The movie had a total of 8771 reviews"
   ]
  },
  {
   "cell_type": "markdown",
   "id": "1da58056",
   "metadata": {
    "papermill": {
     "duration": 0.004652,
     "end_time": "2023-01-13T11:30:09.946127",
     "exception": false,
     "start_time": "2023-01-13T11:30:09.941475",
     "status": "completed"
    },
    "tags": []
   },
   "source": [
    "**What's its least rating and review detail?**\n",
    "\n",
    "First we will group the dataframe by the 'movie' column and then create a dataframe for the movie 'Avengers: Endgame (2019)'.\n",
    "\n",
    "Then from this dataframe, we'll find the least rating given to the movie. (*The least rating given to the movie is 1 and 527 reviewers gave it this*)\n",
    "\n",
    "Then we'll create a dataframe for just the reviews with the least rating and get their review details."
   ]
  },
  {
   "cell_type": "code",
   "execution_count": 8,
   "id": "f3e42eab",
   "metadata": {
    "execution": {
     "iopub.execute_input": "2023-01-13T11:30:09.958100Z",
     "iopub.status.busy": "2023-01-13T11:30:09.957555Z",
     "iopub.status.idle": "2023-01-13T11:30:16.597057Z",
     "shell.execute_reply": "2023-01-13T11:30:16.595855Z"
    },
    "papermill": {
     "duration": 6.648375,
     "end_time": "2023-01-13T11:30:16.599609",
     "exception": false,
     "start_time": "2023-01-13T11:30:09.951234",
     "status": "completed"
    },
    "tags": []
   },
   "outputs": [
    {
     "data": {
      "text/html": [
       "<div>\n",
       "<style scoped>\n",
       "    .dataframe tbody tr th:only-of-type {\n",
       "        vertical-align: middle;\n",
       "    }\n",
       "\n",
       "    .dataframe tbody tr th {\n",
       "        vertical-align: top;\n",
       "    }\n",
       "\n",
       "    .dataframe thead th {\n",
       "        text-align: right;\n",
       "    }\n",
       "</style>\n",
       "<table border=\"1\" class=\"dataframe\">\n",
       "  <thead>\n",
       "    <tr style=\"text-align: right;\">\n",
       "      <th></th>\n",
       "      <th>review_id</th>\n",
       "      <th>reviewer</th>\n",
       "      <th>movie</th>\n",
       "      <th>rating</th>\n",
       "      <th>review_summary</th>\n",
       "      <th>review_date</th>\n",
       "      <th>spoiler_tag</th>\n",
       "      <th>review_detail</th>\n",
       "      <th>helpful</th>\n",
       "    </tr>\n",
       "  </thead>\n",
       "  <tbody>\n",
       "    <tr>\n",
       "      <th>1061</th>\n",
       "      <td>rw5506515</td>\n",
       "      <td>henrycoles9</td>\n",
       "      <td>Avengers: Endgame (2019)</td>\n",
       "      <td>10</td>\n",
       "      <td>Only the second movie that I chose to watch fo...</td>\n",
       "      <td>24 February 2020</td>\n",
       "      <td>0</td>\n",
       "      <td>I had been out of the loop over Marvel movies ...</td>\n",
       "      <td>[2, 7]</td>\n",
       "    </tr>\n",
       "    <tr>\n",
       "      <th>2104</th>\n",
       "      <td>rw6051980</td>\n",
       "      <td>vittoriocosanostra</td>\n",
       "      <td>Avengers: Endgame (2019)</td>\n",
       "      <td>10</td>\n",
       "      <td>Cinema is so beautiful ...</td>\n",
       "      <td>1 September 2020</td>\n",
       "      <td>0</td>\n",
       "      <td>Since 2008, films not only from Marvel, but al...</td>\n",
       "      <td>[6, 14]</td>\n",
       "    </tr>\n",
       "    <tr>\n",
       "      <th>8174</th>\n",
       "      <td>rw5705866</td>\n",
       "      <td>jejesicaa</td>\n",
       "      <td>Avengers: Endgame (2019)</td>\n",
       "      <td>10</td>\n",
       "      <td>Avengers is a Journey, not movies.</td>\n",
       "      <td>4 May 2020</td>\n",
       "      <td>0</td>\n",
       "      <td>Watched Endgame for the 2nd time, and decided ...</td>\n",
       "      <td>[3, 12]</td>\n",
       "    </tr>\n",
       "    <tr>\n",
       "      <th>9938</th>\n",
       "      <td>rw5508642</td>\n",
       "      <td>vishwathg</td>\n",
       "      <td>Avengers: Endgame (2019)</td>\n",
       "      <td>10</td>\n",
       "      <td>Thw movie of the millenium</td>\n",
       "      <td>25 February 2020</td>\n",
       "      <td>0</td>\n",
       "      <td>This is the movie of my life and the best eger...</td>\n",
       "      <td>[2, 9]</td>\n",
       "    </tr>\n",
       "    <tr>\n",
       "      <th>16541</th>\n",
       "      <td>rw5884278</td>\n",
       "      <td>GerryofNorVA</td>\n",
       "      <td>Avengers: Endgame (2019)</td>\n",
       "      <td>6</td>\n",
       "      <td>An Endgame designed for pre-teens</td>\n",
       "      <td>5 July 2020</td>\n",
       "      <td>0</td>\n",
       "      <td>Never has so much been spent on glorious VFX t...</td>\n",
       "      <td>[2, 14]</td>\n",
       "    </tr>\n",
       "    <tr>\n",
       "      <th>...</th>\n",
       "      <td>...</td>\n",
       "      <td>...</td>\n",
       "      <td>...</td>\n",
       "      <td>...</td>\n",
       "      <td>...</td>\n",
       "      <td>...</td>\n",
       "      <td>...</td>\n",
       "      <td>...</td>\n",
       "      <td>...</td>\n",
       "    </tr>\n",
       "    <tr>\n",
       "      <th>2992031</th>\n",
       "      <td>rw5068018</td>\n",
       "      <td>erolmehmed</td>\n",
       "      <td>Avengers: Endgame (2019)</td>\n",
       "      <td>10</td>\n",
       "      <td>You must not miss this!</td>\n",
       "      <td>18 August 2019</td>\n",
       "      <td>0</td>\n",
       "      <td>If you are even a remote fan of this universe ...</td>\n",
       "      <td>[38, 61]</td>\n",
       "    </tr>\n",
       "    <tr>\n",
       "      <th>2992083</th>\n",
       "      <td>rw5068078</td>\n",
       "      <td>spookybird</td>\n",
       "      <td>Avengers: Endgame (2019)</td>\n",
       "      <td>1</td>\n",
       "      <td>Colossal waste of time</td>\n",
       "      <td>18 August 2019</td>\n",
       "      <td>0</td>\n",
       "      <td>Horrible movie. Boring and poorly written. I d...</td>\n",
       "      <td>[176, 308]</td>\n",
       "    </tr>\n",
       "    <tr>\n",
       "      <th>2992430</th>\n",
       "      <td>rw5068483</td>\n",
       "      <td>fjfairchild-20360</td>\n",
       "      <td>Avengers: Endgame (2019)</td>\n",
       "      <td>10</td>\n",
       "      <td>A Climactic End To All Things</td>\n",
       "      <td>19 August 2019</td>\n",
       "      <td>0</td>\n",
       "      <td>Despite the negative responses from people wit...</td>\n",
       "      <td>[39, 63]</td>\n",
       "    </tr>\n",
       "    <tr>\n",
       "      <th>2992442</th>\n",
       "      <td>rw5068496</td>\n",
       "      <td>Darkside-Reviewer</td>\n",
       "      <td>Avengers: Endgame (2019)</td>\n",
       "      <td>5</td>\n",
       "      <td>Total Cop Out</td>\n",
       "      <td>19 August 2019</td>\n",
       "      <td>1</td>\n",
       "      <td>I am a big fan of Marvel and the Avengers and ...</td>\n",
       "      <td>[4, 8]</td>\n",
       "    </tr>\n",
       "    <tr>\n",
       "      <th>2992467</th>\n",
       "      <td>rw5068522</td>\n",
       "      <td>Drat1964</td>\n",
       "      <td>Avengers: Endgame (2019)</td>\n",
       "      <td>1</td>\n",
       "      <td>Plot holes galor</td>\n",
       "      <td>19 August 2019</td>\n",
       "      <td>1</td>\n",
       "      <td>As others have said time travel is always a co...</td>\n",
       "      <td>[247, 434]</td>\n",
       "    </tr>\n",
       "  </tbody>\n",
       "</table>\n",
       "<p>8771 rows × 9 columns</p>\n",
       "</div>"
      ],
      "text/plain": [
       "         review_id            reviewer                     movie rating  \\\n",
       "1061     rw5506515         henrycoles9  Avengers: Endgame (2019)     10   \n",
       "2104     rw6051980  vittoriocosanostra  Avengers: Endgame (2019)     10   \n",
       "8174     rw5705866           jejesicaa  Avengers: Endgame (2019)     10   \n",
       "9938     rw5508642           vishwathg  Avengers: Endgame (2019)     10   \n",
       "16541    rw5884278        GerryofNorVA  Avengers: Endgame (2019)      6   \n",
       "...            ...                 ...                       ...    ...   \n",
       "2992031  rw5068018          erolmehmed  Avengers: Endgame (2019)     10   \n",
       "2992083  rw5068078          spookybird  Avengers: Endgame (2019)      1   \n",
       "2992430  rw5068483   fjfairchild-20360  Avengers: Endgame (2019)     10   \n",
       "2992442  rw5068496   Darkside-Reviewer  Avengers: Endgame (2019)      5   \n",
       "2992467  rw5068522            Drat1964  Avengers: Endgame (2019)      1   \n",
       "\n",
       "                                            review_summary       review_date  \\\n",
       "1061     Only the second movie that I chose to watch fo...  24 February 2020   \n",
       "2104                            Cinema is so beautiful ...  1 September 2020   \n",
       "8174                    Avengers is a Journey, not movies.        4 May 2020   \n",
       "9938                            Thw movie of the millenium  25 February 2020   \n",
       "16541                    An Endgame designed for pre-teens       5 July 2020   \n",
       "...                                                    ...               ...   \n",
       "2992031                            You must not miss this!    18 August 2019   \n",
       "2992083                             Colossal waste of time    18 August 2019   \n",
       "2992430                      A Climactic End To All Things    19 August 2019   \n",
       "2992442                                      Total Cop Out    19 August 2019   \n",
       "2992467                                   Plot holes galor    19 August 2019   \n",
       "\n",
       "         spoiler_tag                                      review_detail  \\\n",
       "1061               0  I had been out of the loop over Marvel movies ...   \n",
       "2104               0  Since 2008, films not only from Marvel, but al...   \n",
       "8174               0  Watched Endgame for the 2nd time, and decided ...   \n",
       "9938               0  This is the movie of my life and the best eger...   \n",
       "16541              0  Never has so much been spent on glorious VFX t...   \n",
       "...              ...                                                ...   \n",
       "2992031            0  If you are even a remote fan of this universe ...   \n",
       "2992083            0  Horrible movie. Boring and poorly written. I d...   \n",
       "2992430            0  Despite the negative responses from people wit...   \n",
       "2992442            1  I am a big fan of Marvel and the Avengers and ...   \n",
       "2992467            1  As others have said time travel is always a co...   \n",
       "\n",
       "            helpful  \n",
       "1061         [2, 7]  \n",
       "2104        [6, 14]  \n",
       "8174        [3, 12]  \n",
       "9938         [2, 9]  \n",
       "16541       [2, 14]  \n",
       "...             ...  \n",
       "2992031    [38, 61]  \n",
       "2992083  [176, 308]  \n",
       "2992430    [39, 63]  \n",
       "2992442      [4, 8]  \n",
       "2992467  [247, 434]  \n",
       "\n",
       "[8771 rows x 9 columns]"
      ]
     },
     "execution_count": 8,
     "metadata": {},
     "output_type": "execute_result"
    }
   ],
   "source": [
    "df = reviews_df\n",
    "df = df.groupby(['movie'])#grouping by movie\n",
    "\n",
    "# getting a dataframe with just 'Avengers: Endgame (2019)' movie\n",
    "endgame_df = df.get_group('Avengers: Endgame (2019)')\n",
    "endgame_df"
   ]
  },
  {
   "cell_type": "code",
   "execution_count": 9,
   "id": "b6b0fdf4",
   "metadata": {
    "execution": {
     "iopub.execute_input": "2023-01-13T11:30:16.612578Z",
     "iopub.status.busy": "2023-01-13T11:30:16.611651Z",
     "iopub.status.idle": "2023-01-13T11:30:16.624090Z",
     "shell.execute_reply": "2023-01-13T11:30:16.622868Z"
    },
    "papermill": {
     "duration": 0.021363,
     "end_time": "2023-01-13T11:30:16.626465",
     "exception": false,
     "start_time": "2023-01-13T11:30:16.605102",
     "status": "completed"
    },
    "tags": []
   },
   "outputs": [
    {
     "data": {
      "text/plain": [
       "10    4363\n",
       "9     1013\n",
       "8      673\n",
       "7      604\n",
       "1      527\n",
       "6      514\n",
       "5      368\n",
       "4      234\n",
       "3      218\n",
       "2      159\n",
       "Name: rating, dtype: int64"
      ]
     },
     "execution_count": 9,
     "metadata": {},
     "output_type": "execute_result"
    }
   ],
   "source": [
    "# getting value counts for rating\n",
    "endgame_df['rating'].value_counts()"
   ]
  },
  {
   "cell_type": "markdown",
   "id": "5ae3848d",
   "metadata": {
    "papermill": {
     "duration": 0.005045,
     "end_time": "2023-01-13T11:30:16.639877",
     "exception": false,
     "start_time": "2023-01-13T11:30:16.634832",
     "status": "completed"
    },
    "tags": []
   },
   "source": [
    "From the value counts of the rating we can see that the list rating is 1. So a dataframe will be created for the reviewers who gave the movie a rating of 1, so that we can get their review details from the dataframe."
   ]
  },
  {
   "cell_type": "code",
   "execution_count": 10,
   "id": "5dc9c066",
   "metadata": {
    "execution": {
     "iopub.execute_input": "2023-01-13T11:30:16.652426Z",
     "iopub.status.busy": "2023-01-13T11:30:16.651998Z",
     "iopub.status.idle": "2023-01-13T11:30:17.050901Z",
     "shell.execute_reply": "2023-01-13T11:30:17.049416Z"
    },
    "papermill": {
     "duration": 0.408397,
     "end_time": "2023-01-13T11:30:17.053600",
     "exception": false,
     "start_time": "2023-01-13T11:30:16.645203",
     "status": "completed"
    },
    "tags": []
   },
   "outputs": [
    {
     "data": {
      "text/html": [
       "<div>\n",
       "<style scoped>\n",
       "    .dataframe tbody tr th:only-of-type {\n",
       "        vertical-align: middle;\n",
       "    }\n",
       "\n",
       "    .dataframe tbody tr th {\n",
       "        vertical-align: top;\n",
       "    }\n",
       "\n",
       "    .dataframe thead th {\n",
       "        text-align: right;\n",
       "    }\n",
       "</style>\n",
       "<table border=\"1\" class=\"dataframe\">\n",
       "  <thead>\n",
       "    <tr style=\"text-align: right;\">\n",
       "      <th></th>\n",
       "      <th>review_id</th>\n",
       "      <th>reviewer</th>\n",
       "      <th>movie</th>\n",
       "      <th>rating</th>\n",
       "      <th>review_summary</th>\n",
       "      <th>review_date</th>\n",
       "      <th>spoiler_tag</th>\n",
       "      <th>review_detail</th>\n",
       "      <th>helpful</th>\n",
       "    </tr>\n",
       "  </thead>\n",
       "  <tbody>\n",
       "    <tr>\n",
       "      <th>161923</th>\n",
       "      <td>rw5727477</td>\n",
       "      <td>kosaildiko-70264</td>\n",
       "      <td>Avengers: Endgame (2019)</td>\n",
       "      <td>1</td>\n",
       "      <td>This is totaly stupid movie</td>\n",
       "      <td>11 May 2020</td>\n",
       "      <td>0</td>\n",
       "      <td>Oh my God! This movie is horrible... stupid st...</td>\n",
       "      <td>[45, 72]</td>\n",
       "    </tr>\n",
       "    <tr>\n",
       "      <th>178486</th>\n",
       "      <td>rw5904506</td>\n",
       "      <td>kminotaur</td>\n",
       "      <td>Avengers: Endgame (2019)</td>\n",
       "      <td>1</td>\n",
       "      <td>Trash movie!</td>\n",
       "      <td>13 July 2020</td>\n",
       "      <td>0</td>\n",
       "      <td>Boring, and too campy. But, hey it's what Marv...</td>\n",
       "      <td>[29, 44]</td>\n",
       "    </tr>\n",
       "    <tr>\n",
       "      <th>226689</th>\n",
       "      <td>rw6086020</td>\n",
       "      <td>reffereffe</td>\n",
       "      <td>Avengers: Endgame (2019)</td>\n",
       "      <td>1</td>\n",
       "      <td>Horrible movie, confusing time lines.</td>\n",
       "      <td>11 September 2020</td>\n",
       "      <td>0</td>\n",
       "      <td>So something else with your time. The movie is...</td>\n",
       "      <td>[32, 49]</td>\n",
       "    </tr>\n",
       "    <tr>\n",
       "      <th>232472</th>\n",
       "      <td>rw5910952</td>\n",
       "      <td>rishabhgautam-24416</td>\n",
       "      <td>Avengers: Endgame (2019)</td>\n",
       "      <td>1</td>\n",
       "      <td>Ruined my favorite Superhero</td>\n",
       "      <td>16 July 2020</td>\n",
       "      <td>0</td>\n",
       "      <td>They ruined hulk very badly, because even Iron...</td>\n",
       "      <td>[32, 49]</td>\n",
       "    </tr>\n",
       "    <tr>\n",
       "      <th>308977</th>\n",
       "      <td>rw5920766</td>\n",
       "      <td>ctbx-87729</td>\n",
       "      <td>Avengers: Endgame (2019)</td>\n",
       "      <td>1</td>\n",
       "      <td>Disney Garbage</td>\n",
       "      <td>20 July 2020</td>\n",
       "      <td>0</td>\n",
       "      <td>Marvel, after saturating the market for the pa...</td>\n",
       "      <td>[32, 49]</td>\n",
       "    </tr>\n",
       "    <tr>\n",
       "      <th>...</th>\n",
       "      <td>...</td>\n",
       "      <td>...</td>\n",
       "      <td>...</td>\n",
       "      <td>...</td>\n",
       "      <td>...</td>\n",
       "      <td>...</td>\n",
       "      <td>...</td>\n",
       "      <td>...</td>\n",
       "      <td>...</td>\n",
       "    </tr>\n",
       "    <tr>\n",
       "      <th>2985573</th>\n",
       "      <td>rw5064060</td>\n",
       "      <td>mikejenks-50038</td>\n",
       "      <td>Avengers: Endgame (2019)</td>\n",
       "      <td>1</td>\n",
       "      <td>Waste of time</td>\n",
       "      <td>17 August 2019</td>\n",
       "      <td>0</td>\n",
       "      <td>I haven't really been a fan of many of the mar...</td>\n",
       "      <td>[194, 341]</td>\n",
       "    </tr>\n",
       "    <tr>\n",
       "      <th>2988302</th>\n",
       "      <td>rw5066050</td>\n",
       "      <td>luukasleohietanen</td>\n",
       "      <td>Avengers: Endgame (2019)</td>\n",
       "      <td>1</td>\n",
       "      <td>most overrated movie ever</td>\n",
       "      <td>17 August 2019</td>\n",
       "      <td>0</td>\n",
       "      <td>So boring and predictable story with cringe mo...</td>\n",
       "      <td>[219, 388]</td>\n",
       "    </tr>\n",
       "    <tr>\n",
       "      <th>2988348</th>\n",
       "      <td>rw5066103</td>\n",
       "      <td>pmama69</td>\n",
       "      <td>Avengers: Endgame (2019)</td>\n",
       "      <td>1</td>\n",
       "      <td>Pathetic</td>\n",
       "      <td>17 August 2019</td>\n",
       "      <td>0</td>\n",
       "      <td>Boring. Slow. Badly written, poor story.... wo...</td>\n",
       "      <td>[231, 410]</td>\n",
       "    </tr>\n",
       "    <tr>\n",
       "      <th>2992083</th>\n",
       "      <td>rw5068078</td>\n",
       "      <td>spookybird</td>\n",
       "      <td>Avengers: Endgame (2019)</td>\n",
       "      <td>1</td>\n",
       "      <td>Colossal waste of time</td>\n",
       "      <td>18 August 2019</td>\n",
       "      <td>0</td>\n",
       "      <td>Horrible movie. Boring and poorly written. I d...</td>\n",
       "      <td>[176, 308]</td>\n",
       "    </tr>\n",
       "    <tr>\n",
       "      <th>2992467</th>\n",
       "      <td>rw5068522</td>\n",
       "      <td>Drat1964</td>\n",
       "      <td>Avengers: Endgame (2019)</td>\n",
       "      <td>1</td>\n",
       "      <td>Plot holes galor</td>\n",
       "      <td>19 August 2019</td>\n",
       "      <td>1</td>\n",
       "      <td>As others have said time travel is always a co...</td>\n",
       "      <td>[247, 434]</td>\n",
       "    </tr>\n",
       "  </tbody>\n",
       "</table>\n",
       "<p>527 rows × 9 columns</p>\n",
       "</div>"
      ],
      "text/plain": [
       "         review_id             reviewer                     movie rating  \\\n",
       "161923   rw5727477     kosaildiko-70264  Avengers: Endgame (2019)      1   \n",
       "178486   rw5904506            kminotaur  Avengers: Endgame (2019)      1   \n",
       "226689   rw6086020           reffereffe  Avengers: Endgame (2019)      1   \n",
       "232472   rw5910952  rishabhgautam-24416  Avengers: Endgame (2019)      1   \n",
       "308977   rw5920766           ctbx-87729  Avengers: Endgame (2019)      1   \n",
       "...            ...                  ...                       ...    ...   \n",
       "2985573  rw5064060      mikejenks-50038  Avengers: Endgame (2019)      1   \n",
       "2988302  rw5066050    luukasleohietanen  Avengers: Endgame (2019)      1   \n",
       "2988348  rw5066103              pmama69  Avengers: Endgame (2019)      1   \n",
       "2992083  rw5068078           spookybird  Avengers: Endgame (2019)      1   \n",
       "2992467  rw5068522             Drat1964  Avengers: Endgame (2019)      1   \n",
       "\n",
       "                                review_summary        review_date  \\\n",
       "161923             This is totaly stupid movie        11 May 2020   \n",
       "178486                            Trash movie!       13 July 2020   \n",
       "226689   Horrible movie, confusing time lines.  11 September 2020   \n",
       "232472            Ruined my favorite Superhero       16 July 2020   \n",
       "308977                          Disney Garbage       20 July 2020   \n",
       "...                                        ...                ...   \n",
       "2985573                          Waste of time     17 August 2019   \n",
       "2988302              most overrated movie ever     17 August 2019   \n",
       "2988348                               Pathetic     17 August 2019   \n",
       "2992083                 Colossal waste of time     18 August 2019   \n",
       "2992467                       Plot holes galor     19 August 2019   \n",
       "\n",
       "         spoiler_tag                                      review_detail  \\\n",
       "161923             0  Oh my God! This movie is horrible... stupid st...   \n",
       "178486             0  Boring, and too campy. But, hey it's what Marv...   \n",
       "226689             0  So something else with your time. The movie is...   \n",
       "232472             0  They ruined hulk very badly, because even Iron...   \n",
       "308977             0  Marvel, after saturating the market for the pa...   \n",
       "...              ...                                                ...   \n",
       "2985573            0  I haven't really been a fan of many of the mar...   \n",
       "2988302            0  So boring and predictable story with cringe mo...   \n",
       "2988348            0  Boring. Slow. Badly written, poor story.... wo...   \n",
       "2992083            0  Horrible movie. Boring and poorly written. I d...   \n",
       "2992467            1  As others have said time travel is always a co...   \n",
       "\n",
       "            helpful  \n",
       "161923     [45, 72]  \n",
       "178486     [29, 44]  \n",
       "226689     [32, 49]  \n",
       "232472     [32, 49]  \n",
       "308977     [32, 49]  \n",
       "...             ...  \n",
       "2985573  [194, 341]  \n",
       "2988302  [219, 388]  \n",
       "2988348  [231, 410]  \n",
       "2992083  [176, 308]  \n",
       "2992467  [247, 434]  \n",
       "\n",
       "[527 rows x 9 columns]"
      ]
     },
     "execution_count": 10,
     "metadata": {},
     "output_type": "execute_result"
    }
   ],
   "source": [
    "df = endgame_df\n",
    "df = df.groupby(['rating'])#grouping by rating\n",
    "\n",
    "# getting a dataframe with just a rating of 1\n",
    "low_reviews_df = df.get_group('1')\n",
    "low_reviews_df"
   ]
  },
  {
   "cell_type": "code",
   "execution_count": 11,
   "id": "fe0f2725",
   "metadata": {
    "execution": {
     "iopub.execute_input": "2023-01-13T11:30:17.067899Z",
     "iopub.status.busy": "2023-01-13T11:30:17.067447Z",
     "iopub.status.idle": "2023-01-13T11:30:17.078894Z",
     "shell.execute_reply": "2023-01-13T11:30:17.077016Z"
    },
    "papermill": {
     "duration": 0.021557,
     "end_time": "2023-01-13T11:30:17.081590",
     "exception": false,
     "start_time": "2023-01-13T11:30:17.060033",
     "status": "completed"
    },
    "tags": []
   },
   "outputs": [
    {
     "name": "stdout",
     "output_type": "stream",
     "text": [
      "                                             review_detail\n",
      "161923   Oh my God! This movie is horrible... stupid st...\n",
      "178486   Boring, and too campy. But, hey it's what Marv...\n",
      "226689   So something else with your time. The movie is...\n",
      "232472   They ruined hulk very badly, because even Iron...\n",
      "308977   Marvel, after saturating the market for the pa...\n",
      "...                                                    ...\n",
      "2985573  I haven't really been a fan of many of the mar...\n",
      "2988302  So boring and predictable story with cringe mo...\n",
      "2988348  Boring. Slow. Badly written, poor story.... wo...\n",
      "2992083  Horrible movie. Boring and poorly written. I d...\n",
      "2992467  As others have said time travel is always a co...\n",
      "\n",
      "[527 rows x 1 columns]\n"
     ]
    }
   ],
   "source": [
    "# creating  a dataframe with just review details for reviewers with least rating\n",
    "reviews = low_reviews_df[['review_detail']]\n",
    "print(reviews) "
   ]
  }
 ],
 "metadata": {
  "kernelspec": {
   "display_name": "Python 3",
   "language": "python",
   "name": "python3"
  },
  "language_info": {
   "codemirror_mode": {
    "name": "ipython",
    "version": 3
   },
   "file_extension": ".py",
   "mimetype": "text/x-python",
   "name": "python",
   "nbconvert_exporter": "python",
   "pygments_lexer": "ipython3",
   "version": "3.7.12"
  },
  "papermill": {
   "default_parameters": {},
   "duration": 209.844163,
   "end_time": "2023-01-13T11:30:20.713577",
   "environment_variables": {},
   "exception": null,
   "input_path": "__notebook__.ipynb",
   "output_path": "__notebook__.ipynb",
   "parameters": {},
   "start_time": "2023-01-13T11:26:50.869414",
   "version": "2.3.4"
  }
 },
 "nbformat": 4,
 "nbformat_minor": 5
}
